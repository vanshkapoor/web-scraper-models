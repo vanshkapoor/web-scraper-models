{
 "cells": [
  {
   "cell_type": "code",
   "execution_count": 1,
   "metadata": {},
   "outputs": [],
   "source": [
    "import requests\n",
    "from bs4 import BeautifulSoup\n",
    "\n",
    "r=requests.get(\"https://pythonhow.com/real-estate/rock-springs-wy/LCWYROCKSPRINGS/\")\n",
    "c=r.content\n",
    "\n",
    "soup=BeautifulSoup(c,\"html.parser\")\n",
    "print(soup.prettify())\n",
    "\n",
    "main=soup.find(\"div\",{\"id\":\"PropertyRowContainer\"})\n",
    "lists=main.find_all(\"div\",{\"class\":\"propertyRow\"})\n",
    "print(lists[0].find(\"h4\").text.replace(\"\\n\",\"\"))\n",
    "\n",
    "len(lists)"
   ]
  },
  {
   "cell_type": "code",
   "execution_count": 47,
   "metadata": {},
   "outputs": [
    {
     "name": "stdout",
     "output_type": "stream",
     "text": [
      "$725,000\n",
      "0 Gateway\n",
      "Rock Springs, WY 82901\n",
      "Courtesy Of All Broker Realty\n",
      "  \n",
      "$452,900\n",
      "1003 Winchester Blvd.\n",
      "Rock Springs, WY 82901\n",
      "4 Beds\n",
      "Listed By CENTURY 21 Rocky Mountain Realty\n",
      "  \n",
      "$396,900\n",
      "600 Talladega\n",
      "Rock Springs, WY 82901\n",
      "5 Beds\n",
      "Courtesy Of All Broker Realty\n",
      "  \n",
      "$389,900\n",
      "3239 Spearhead Way\n",
      "Rock Springs, WY 82901\n",
      "4 Beds\n",
      "Courtesy Of Coldwell Banker Sweetwater Realty\n",
      "  \n",
      "$254,000\n",
      "522 Emerald Street\n",
      "Rock Springs, WY 82901\n",
      "3 Beds\n",
      "Courtesy Of Coldwell Banker Sweetwater Realty\n",
      "  \n",
      "$252,900\n",
      "1302 Veteran's Drive\n",
      "Rock Springs, WY 82901\n",
      "4 Beds\n",
      "Courtesy Of Coldwell Banker Sweetwater Realty\n",
      "  \n",
      "$210,000\n",
      "1021 Cypress Cir\n",
      "Rock Springs, WY 82901\n",
      "4 Beds\n",
      "Courtesy Of Coldwell Banker Sweetwater Realty\n",
      "  \n",
      "$209,000\n",
      "913 Madison Dr\n",
      "Rock Springs, WY 82901\n",
      "3 Beds\n",
      "Courtesy Of Coldwell Banker Sweetwater Realty\n",
      "  \n",
      "$199,900\n",
      "1344 Teton Street\n",
      "Rock Springs, WY 82901\n",
      "3 Beds\n",
      "Courtesy Of Coldwell Banker Sweetwater Realty\n",
      "  \n",
      "$196,900\n",
      "4 Minnies Lane\n",
      "Rock Springs, WY 82901\n",
      "3 Beds\n",
      "Listed By CENTURY 21 Rocky Mountain Realty\n",
      "  \n"
     ]
    }
   ],
   "source": [
    "l=[]\n",
    "for i in lists:\n",
    "    d={}\n",
    "    p=i.find(\"h4\").text.replace(\"\\n\",\"\")\n",
    "    a1=i.find_all(\"span\",{\"class\":\"propAddressCollapse\"})[0].text\n",
    "    a2=i.find_all(\"span\",{\"class\":\"propAddressCollapse\"})[1].text\n",
    "    co=i.find(\"div\",{\"class\":\"secondaryHeader\"}).text.replace(\"\\n\",\"\")\n",
    "    d[\"price\"]=p\n",
    "    d[\"address\"]=a1\n",
    "    d[\"locality\"]=a2\n",
    "    d[\"reference\"]=co\n",
    "    print(p)\n",
    "    print(a1)\n",
    "    print(a2)\n",
    "    try:\n",
    "        print(i.find(\"span\",{\"class\":\"infoBed\"}).text)\n",
    "        d[\"beds\"]=i.find(\"span\",{\"class\":\"infoBed\"}).text\n",
    "    except:\n",
    "        d[\"beds\"]=None\n",
    "        pass\n",
    "    print(co)\n",
    "    print(\"  \")\n",
    "    l.append(d)"
   ]
  },
  {
   "cell_type": "code",
   "execution_count": 33,
   "metadata": {},
   "outputs": [
    {
     "data": {
      "text/plain": [
       "'Courtesy Of All Broker Realty'"
      ]
     },
     "execution_count": 33,
     "metadata": {},
     "output_type": "execute_result"
    }
   ],
   "source": [
    "lists[0].find(\"div\",{\"class\":\"secondaryHeader\"}).text.replace(\"\\n\",\"\")"
   ]
  },
  {
   "cell_type": "code",
   "execution_count": 44,
   "metadata": {},
   "outputs": [
    {
     "name": "stdout",
     "output_type": "stream",
     "text": [
      "4 Beds\n"
     ]
    }
   ],
   "source": [
    "print(lists[1].find(\"span\",{\"class\":\"infoBed\"}).text)\n"
   ]
  },
  {
   "cell_type": "code",
   "execution_count": 49,
   "metadata": {},
   "outputs": [
    {
     "data": {
      "text/plain": [
       "10"
      ]
     },
     "execution_count": 49,
     "metadata": {},
     "output_type": "execute_result"
    }
   ],
   "source": [
    "len(l)"
   ]
  },
  {
   "cell_type": "code",
   "execution_count": 51,
   "metadata": {},
   "outputs": [],
   "source": [
    "import pandas\n",
    "df=pandas.DataFrame(l)"
   ]
  },
  {
   "cell_type": "code",
   "execution_count": 52,
   "metadata": {},
   "outputs": [
    {
     "data": {
      "text/html": [
       "<div>\n",
       "<style scoped>\n",
       "    .dataframe tbody tr th:only-of-type {\n",
       "        vertical-align: middle;\n",
       "    }\n",
       "\n",
       "    .dataframe tbody tr th {\n",
       "        vertical-align: top;\n",
       "    }\n",
       "\n",
       "    .dataframe thead th {\n",
       "        text-align: right;\n",
       "    }\n",
       "</style>\n",
       "<table border=\"1\" class=\"dataframe\">\n",
       "  <thead>\n",
       "    <tr style=\"text-align: right;\">\n",
       "      <th></th>\n",
       "      <th>address</th>\n",
       "      <th>beds</th>\n",
       "      <th>locality</th>\n",
       "      <th>price</th>\n",
       "      <th>reference</th>\n",
       "    </tr>\n",
       "  </thead>\n",
       "  <tbody>\n",
       "    <tr>\n",
       "      <th>0</th>\n",
       "      <td>0 Gateway</td>\n",
       "      <td>None</td>\n",
       "      <td>Rock Springs, WY 82901</td>\n",
       "      <td>$725,000</td>\n",
       "      <td>Courtesy Of All Broker Realty</td>\n",
       "    </tr>\n",
       "    <tr>\n",
       "      <th>1</th>\n",
       "      <td>1003 Winchester Blvd.</td>\n",
       "      <td>4 Beds</td>\n",
       "      <td>Rock Springs, WY 82901</td>\n",
       "      <td>$452,900</td>\n",
       "      <td>Listed By CENTURY 21 Rocky Mountain Realty</td>\n",
       "    </tr>\n",
       "    <tr>\n",
       "      <th>2</th>\n",
       "      <td>600 Talladega</td>\n",
       "      <td>5 Beds</td>\n",
       "      <td>Rock Springs, WY 82901</td>\n",
       "      <td>$396,900</td>\n",
       "      <td>Courtesy Of All Broker Realty</td>\n",
       "    </tr>\n",
       "    <tr>\n",
       "      <th>3</th>\n",
       "      <td>3239 Spearhead Way</td>\n",
       "      <td>4 Beds</td>\n",
       "      <td>Rock Springs, WY 82901</td>\n",
       "      <td>$389,900</td>\n",
       "      <td>Courtesy Of Coldwell Banker Sweetwater Realty</td>\n",
       "    </tr>\n",
       "    <tr>\n",
       "      <th>4</th>\n",
       "      <td>522 Emerald Street</td>\n",
       "      <td>3 Beds</td>\n",
       "      <td>Rock Springs, WY 82901</td>\n",
       "      <td>$254,000</td>\n",
       "      <td>Courtesy Of Coldwell Banker Sweetwater Realty</td>\n",
       "    </tr>\n",
       "    <tr>\n",
       "      <th>5</th>\n",
       "      <td>1302 Veteran's Drive</td>\n",
       "      <td>4 Beds</td>\n",
       "      <td>Rock Springs, WY 82901</td>\n",
       "      <td>$252,900</td>\n",
       "      <td>Courtesy Of Coldwell Banker Sweetwater Realty</td>\n",
       "    </tr>\n",
       "    <tr>\n",
       "      <th>6</th>\n",
       "      <td>1021 Cypress Cir</td>\n",
       "      <td>4 Beds</td>\n",
       "      <td>Rock Springs, WY 82901</td>\n",
       "      <td>$210,000</td>\n",
       "      <td>Courtesy Of Coldwell Banker Sweetwater Realty</td>\n",
       "    </tr>\n",
       "    <tr>\n",
       "      <th>7</th>\n",
       "      <td>913 Madison Dr</td>\n",
       "      <td>3 Beds</td>\n",
       "      <td>Rock Springs, WY 82901</td>\n",
       "      <td>$209,000</td>\n",
       "      <td>Courtesy Of Coldwell Banker Sweetwater Realty</td>\n",
       "    </tr>\n",
       "    <tr>\n",
       "      <th>8</th>\n",
       "      <td>1344 Teton Street</td>\n",
       "      <td>3 Beds</td>\n",
       "      <td>Rock Springs, WY 82901</td>\n",
       "      <td>$199,900</td>\n",
       "      <td>Courtesy Of Coldwell Banker Sweetwater Realty</td>\n",
       "    </tr>\n",
       "    <tr>\n",
       "      <th>9</th>\n",
       "      <td>4 Minnies Lane</td>\n",
       "      <td>3 Beds</td>\n",
       "      <td>Rock Springs, WY 82901</td>\n",
       "      <td>$196,900</td>\n",
       "      <td>Listed By CENTURY 21 Rocky Mountain Realty</td>\n",
       "    </tr>\n",
       "  </tbody>\n",
       "</table>\n",
       "</div>"
      ],
      "text/plain": [
       "                 address    beds                locality     price  \\\n",
       "0              0 Gateway    None  Rock Springs, WY 82901  $725,000   \n",
       "1  1003 Winchester Blvd.  4 Beds  Rock Springs, WY 82901  $452,900   \n",
       "2          600 Talladega  5 Beds  Rock Springs, WY 82901  $396,900   \n",
       "3     3239 Spearhead Way  4 Beds  Rock Springs, WY 82901  $389,900   \n",
       "4     522 Emerald Street  3 Beds  Rock Springs, WY 82901  $254,000   \n",
       "5   1302 Veteran's Drive  4 Beds  Rock Springs, WY 82901  $252,900   \n",
       "6       1021 Cypress Cir  4 Beds  Rock Springs, WY 82901  $210,000   \n",
       "7         913 Madison Dr  3 Beds  Rock Springs, WY 82901  $209,000   \n",
       "8      1344 Teton Street  3 Beds  Rock Springs, WY 82901  $199,900   \n",
       "9         4 Minnies Lane  3 Beds  Rock Springs, WY 82901  $196,900   \n",
       "\n",
       "                                       reference  \n",
       "0                  Courtesy Of All Broker Realty  \n",
       "1     Listed By CENTURY 21 Rocky Mountain Realty  \n",
       "2                  Courtesy Of All Broker Realty  \n",
       "3  Courtesy Of Coldwell Banker Sweetwater Realty  \n",
       "4  Courtesy Of Coldwell Banker Sweetwater Realty  \n",
       "5  Courtesy Of Coldwell Banker Sweetwater Realty  \n",
       "6  Courtesy Of Coldwell Banker Sweetwater Realty  \n",
       "7  Courtesy Of Coldwell Banker Sweetwater Realty  \n",
       "8  Courtesy Of Coldwell Banker Sweetwater Realty  \n",
       "9     Listed By CENTURY 21 Rocky Mountain Realty  "
      ]
     },
     "execution_count": 52,
     "metadata": {},
     "output_type": "execute_result"
    }
   ],
   "source": [
    "df"
   ]
  },
  {
   "cell_type": "code",
   "execution_count": 54,
   "metadata": {},
   "outputs": [],
   "source": [
    "df.to_csv(\"file.csv\")"
   ]
  },
  {
   "cell_type": "code",
   "execution_count": 56,
   "metadata": {},
   "outputs": [
    {
     "data": {
      "text/plain": [
       "'C:\\\\Users\\\\hp'"
      ]
     },
     "execution_count": 56,
     "metadata": {},
     "output_type": "execute_result"
    }
   ],
   "source": [
    "pwd"
   ]
  },
  {
   "cell_type": "code",
   "execution_count": null,
   "metadata": {},
   "outputs": [],
   "source": []
  }
 ],
 "metadata": {
  "kernelspec": {
   "display_name": "Python 3",
   "language": "python",
   "name": "python3"
  },
  "language_info": {
   "codemirror_mode": {
    "name": "ipython",
    "version": 3
   },
   "file_extension": ".py",
   "mimetype": "text/x-python",
   "name": "python",
   "nbconvert_exporter": "python",
   "pygments_lexer": "ipython3",
   "version": "3.6.5"
  }
 },
 "nbformat": 4,
 "nbformat_minor": 2
}
